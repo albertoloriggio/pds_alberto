{
 "cells": [
  {
   "cell_type": "markdown",
   "id": "24b98369-c7ba-450b-a8b5-e34319000695",
   "metadata": {
    "slideshow": {
     "slide_type": "slide"
    },
    "tags": []
   },
   "source": [
    "# Python for Data Science\n",
    "## Session 5 \n",
    "### Basic Libraries II"
   ]
  },
  {
   "cell_type": "markdown",
   "id": "3ace1343-d73d-466d-aa07-56febbb7cbf1",
   "metadata": {
    "slideshow": {
     "slide_type": "skip"
    },
    "tags": []
   },
   "source": [
    "---"
   ]
  },
  {
   "cell_type": "markdown",
   "id": "c5ffee69-5d4d-4f1c-9ed7-083afbc931ec",
   "metadata": {
    "slideshow": {
     "slide_type": "slide"
    },
    "tags": []
   },
   "source": [
    "## Outline\n",
    "\n",
    "1. Json, pickle and parquet formats\n",
    "\n",
    "2. Re library\n",
    "\n",
    "3. Time and Datetime libraries"
   ]
  },
  {
   "cell_type": "markdown",
   "id": "012aeb1b",
   "metadata": {
    "slideshow": {
     "slide_type": "slide"
    }
   },
   "source": [
    "### Exercise\n",
    "\n",
    "\n",
    "Reusing the same annotations we work with in the previous session, answer the following items using the libraries we saw today: \n",
    "\n",
    "1. How many annotations you have per month and year. Which month has more annotation files.\n",
    "2. Create a dictionary where each **key** is a month, and the corresponding **value** is a list containing all the annotation names with where their date corresponds to the month. \n",
    "    a. Save it following the json format, and load it again to check that everything is ok.\n",
    "    b. Save it this time using Pickle.\n",
    "    c. Instead of storing a list of all the annotation names happening that month, let's create for each annotation a dictionary with keys: name and date (using a datetime object).\n",
    "3. Print all the annotations from the oldest ones to the newest one during the seconf half of the 2024. "
   ]
  },
  {
   "cell_type": "markdown",
   "id": "8a46aea1",
   "metadata": {},
   "source": [
    "1. How many annotations you have per month and year. Which month has more annotation files."
   ]
  },
  {
   "cell_type": "code",
   "execution_count": 127,
   "id": "a47ed75a",
   "metadata": {},
   "outputs": [
    {
     "name": "stdout",
     "output_type": "stream",
     "text": [
      "The month with the most annotations is 2024-06 with 52 annotations.\n"
     ]
    }
   ],
   "source": [
    "import re\n",
    "import glob\n",
    "import os\n",
    "from datetime import datetime\n",
    "\n",
    "\n",
    "# Regex pattern to extract date and time from filenames\n",
    "pattern = r'(\\d{8})_(\\d{6})_SN(\\d+)_QUICKVIEW_VISUAL_([\\d_]+)_([A-Za-z0-9\\-\\_.]+)\\.txt'\n",
    "\n",
    "# Get list of annotation files\n",
    "annotations = glob.glob('session_4/annotations/*.txt')\n",
    "\n",
    "# Count annotations per month and year\n",
    "annotations_by_month = {}\n",
    "\n",
    "for annotation in annotations:\n",
    "    filename = os.path.basename(annotation)\n",
    "    match = re.match(pattern, filename)\n",
    "    if match:\n",
    "        date, time, _, _, _ = match.groups()\n",
    "        datetime_str = date + time\n",
    "        datetime_obj = datetime.strptime(datetime_str, \"%Y%m%d%H%M%S\")\n",
    "        year_month = datetime_obj.strftime('%Y-%m')\n",
    "        if year_month not in annotations_by_month:\n",
    "            annotations_by_month[year_month] = []\n",
    "        annotations_by_month[year_month].append(filename)\n",
    "\n",
    "annotations_count_by_month = {month: len(files) for month, files in annotations_by_month.items()}\n",
    "most_annotations_month = max(annotations_count_by_month, key=annotations_count_by_month.get)\n",
    "print(f\"The month with the most annotations is {most_annotations_month} with {annotations_count_by_month[most_annotations_month]} annotations.\")\n"
   ]
  },
  {
   "cell_type": "markdown",
   "id": "ab8a5d9f",
   "metadata": {},
   "source": [
    "2. Create a dictionary where each **key** is a month, and the corresponding **value** is a list containing all the annotation names with where their date corresponds to the month.\n",
    "\n",
    "    a. Save it following the json format, and load it again to check that everything is ok.\n",
    "\n",
    "    b. Save it this time using Pickle.\n",
    "    \n",
    "    c. Instead of storing a list of all the annotation names happening that month, let's create for each annotation a dictionary with keys: name and date (using a datetime object)."
   ]
  },
  {
   "cell_type": "code",
   "execution_count": 128,
   "id": "6fe5281b",
   "metadata": {},
   "outputs": [],
   "source": [
    "import os\n",
    "import glob\n",
    "import pickle\n",
    "import re\n",
    "import json\n",
    "from datetime import datetime\n",
    "\n",
    "annotations_folder = '/Users/abbi23/Downloads/session_4/annotations'\n",
    "annotations = glob.glob(os.path.join(annotations_folder, '*.txt'))\n",
    "\n",
    "pattern = r'(\\d{8})_(\\d{6})_SN(\\d+)_QUICKVIEW_VISUAL_([\\d_]+)_([A-Za-z0-9\\-\\_.]+)\\.txt'\n",
    "\n",
    "# Create a dictionary: key = month, value = list of annotation filenames\n",
    "annotations_by_month = {}\n",
    "for annotation in annotations:\n",
    "    filename = os.path.basename(annotation)\n",
    "    match = re.match(pattern, filename)\n",
    "    if match:\n",
    "        date, time, _, _, _ = match.groups()\n",
    "        datetime_obj = datetime.strptime(date + time, \"%Y%m%d%H%M%S\")\n",
    "        year_month = datetime_obj.strftime('%Y-%m')\n",
    "        if year_month not in annotations_by_month:\n",
    "            annotations_by_month[year_month] = []\n",
    "        annotations_by_month[year_month].append(filename)\n",
    "\n",
    "# a.Save as JSON\n",
    "json_file_path = os.path.join(annotations_folder, \"annotations_by_month.json\")\n",
    "with open(json_file_path, 'w') as json_file:\n",
    "    json.dump(annotations_by_month, json_file, indent=4)\n",
    "\n",
    "# Reload to check\n",
    "with open(json_file_path, 'r') as json_file:\n",
    "    loaded_annotations_by_month = json.load(json_file)\n",
    "\n",
    "\n",
    "# b. Save the dictionary in Pickle format\n",
    "pickle_file_path = os.path.join(annotations_folder, \"annotations_by_month.pkl\")\n",
    "with open(pickle_file_path, 'wb') as pickle_file:\n",
    "    pickle.dump(annotations_by_month, pickle_file)\n",
    "\n",
    "\n",
    "# c. Modify the dictionary: list of dictionaries with 'name' and 'date' keys\n",
    "annotations_details_by_month = {\n",
    "    month: [{'name': file, 'date': datetime.strptime(file.split('_')[0] + file.split('_')[1], \"%Y%m%d%H%M%S\")}\n",
    "            for file in files]\n",
    "    for month, files in annotations_by_month.items()\n",
    "}\n",
    "\n",
    "# Save the detailed dictionary in JSON\n",
    "detailed_json_file_path = os.path.join(annotations_folder, \"annotations_details_by_month.json\")\n",
    "with open(detailed_json_file_path, 'w') as json_file:\n",
    "    json.dump({k: [{'name': d['name'], 'date': d['date'].strftime('%Y-%m-%d %H:%M:%S')} \n",
    "                    for d in v] for k, v in annotations_details_by_month.items()}, json_file, indent=4)\n"
   ]
  },
  {
   "cell_type": "markdown",
   "id": "85b58ef8",
   "metadata": {},
   "source": [
    "3. Print all the annotations from the oldest ones to the newest one during the seconf half of the 2024. "
   ]
  },
  {
   "cell_type": "code",
   "execution_count": 129,
   "id": "f352c7ca",
   "metadata": {},
   "outputs": [
    {
     "name": "stdout",
     "output_type": "stream",
     "text": [
      "No annotations were found for the second half of 2024.\n"
     ]
    }
   ],
   "source": [
    "annotations_second_half_2024 = []\n",
    "\n",
    "for month, files in annotations_details_by_month.items():\n",
    "    year, month_num = map(int, month.split('-'))\n",
    "    if year == 2024 and month_num >= 7:\n",
    "        for annotation in files:\n",
    "            annotations_second_half_2024.append({\n",
    "                'name': annotation['name'],\n",
    "                'date': annotation['date']\n",
    "            })\n",
    "\n",
    "if len(annotations_second_half_2024) == 0:\n",
    "    print(\"No annotations were found for the second half of 2024.\")\n",
    "else:\n",
    "    annotations_second_half_2024_sorted = sorted(annotations_second_half_2024, key=lambda x: x['date'])\n",
    "\n",
    "    print(\"Annotations from the second half of 2024 (sorted chronologically):\")\n",
    "    for annotation in annotations_second_half_2024_sorted:\n",
    "        print(f\"Name: {annotation['name']}, Date: {annotation['date'].strftime('%Y-%m-%d %H:%M:%S')}\")\n"
   ]
  }
 ],
 "metadata": {
  "celltoolbar": "Slideshow",
  "kernelspec": {
   "display_name": "base",
   "language": "python",
   "name": "python3"
  },
  "language_info": {
   "codemirror_mode": {
    "name": "ipython",
    "version": 3
   },
   "file_extension": ".py",
   "mimetype": "text/x-python",
   "name": "python",
   "nbconvert_exporter": "python",
   "pygments_lexer": "ipython3",
   "version": "3.12.4"
  }
 },
 "nbformat": 4,
 "nbformat_minor": 5
}
