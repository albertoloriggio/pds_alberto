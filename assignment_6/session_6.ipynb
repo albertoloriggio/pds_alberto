{
 "cells": [
  {
   "cell_type": "markdown",
   "id": "24b98369-c7ba-450b-a8b5-e34319000695",
   "metadata": {
    "slideshow": {
     "slide_type": "slide"
    },
    "tags": []
   },
   "source": [
    "# Python for Data Science\n",
    "## Session 6\n",
    "### Datasets – Pandas I "
   ]
  },
  {
   "cell_type": "markdown",
   "id": "3ace1343-d73d-466d-aa07-56febbb7cbf1",
   "metadata": {
    "slideshow": {
     "slide_type": "skip"
    },
    "tags": []
   },
   "source": [
    "---"
   ]
  },
  {
   "cell_type": "markdown",
   "id": "c5ffee69-5d4d-4f1c-9ed7-083afbc931ec",
   "metadata": {
    "slideshow": {
     "slide_type": "slide"
    },
    "tags": []
   },
   "source": [
    "## Outline\n",
    "\n",
    "1. Pandas\n",
    "\n",
    "2. Loading and exploring datasets \n",
    "\n",
    "3. Data cleaning and preprocessing with Pandas "
   ]
  },
  {
   "cell_type": "markdown",
   "id": "aba315f4-e9bf-4a66-b3d3-593037c3ca70",
   "metadata": {
    "slideshow": {
     "slide_type": "skip"
    },
    "tags": []
   },
   "source": [
    "---"
   ]
  },
  {
   "cell_type": "markdown",
   "id": "054e849a",
   "metadata": {
    "slideshow": {
     "slide_type": "slide"
    },
    "tags": []
   },
   "source": [
    "## Pandas I\n",
    "\n",
    "Let's load *Netflix* titles and do some exercices"
   ]
  },
  {
   "cell_type": "code",
   "execution_count": 1,
   "id": "2b55e011",
   "metadata": {
    "slideshow": {
     "slide_type": "subslide"
    }
   },
   "outputs": [],
   "source": [
    "import pandas as pd\n",
    "# Download from Moodle the zip file containing the netflix dataset\n",
    "path = 'session_6/netflix_titles.csv'\n",
    "\n",
    "netflix_df = pd.read_csv(path)"
   ]
  },
  {
   "cell_type": "code",
   "execution_count": 2,
   "id": "a94b5dc2",
   "metadata": {
    "slideshow": {
     "slide_type": "subslide"
    }
   },
   "outputs": [
    {
     "data": {
      "text/plain": [
       "Index(['show_id', 'type', 'title', 'director', 'cast', 'country', 'date_added',\n",
       "       'release_year', 'rating', 'duration', 'listed_in', 'description'],\n",
       "      dtype='object')"
      ]
     },
     "execution_count": 2,
     "metadata": {},
     "output_type": "execute_result"
    }
   ],
   "source": [
    "netflix_df.columns"
   ]
  },
  {
   "cell_type": "markdown",
   "id": "00012cb1",
   "metadata": {
    "slideshow": {
     "slide_type": "slide"
    }
   },
   "source": [
    "## Pandas I\n",
    "Let's do the following exercices:\n"
   ]
  },
  {
   "cell_type": "markdown",
   "id": "62206868",
   "metadata": {},
   "source": [
    "1. Count Missing Values in Each Column"
   ]
  },
  {
   "cell_type": "code",
   "execution_count": 3,
   "id": "4c6c3365",
   "metadata": {},
   "outputs": [
    {
     "name": "stdout",
     "output_type": "stream",
     "text": [
      "show_id            0\n",
      "type               0\n",
      "title              0\n",
      "director        2634\n",
      "cast             825\n",
      "country          831\n",
      "date_added        10\n",
      "release_year       0\n",
      "rating             4\n",
      "duration           3\n",
      "listed_in          0\n",
      "description        0\n",
      "dtype: int64\n"
     ]
    }
   ],
   "source": [
    "missing_values = netflix_df.isna().sum()\n",
    "print(missing_values)"
   ]
  },
  {
   "cell_type": "markdown",
   "id": "186edc5d",
   "metadata": {},
   "source": [
    "2. Fill Missing 'country' Values with \"Unknown\""
   ]
  },
  {
   "cell_type": "code",
   "execution_count": 4,
   "id": "5044168d",
   "metadata": {},
   "outputs": [
    {
     "name": "stdout",
     "output_type": "stream",
     "text": [
      "0\n"
     ]
    }
   ],
   "source": [
    "netflix_df['country'] = netflix_df['country'].fillna(\"Unknown\")\n",
    "\n",
    "print(netflix_df['country'].isna().sum())"
   ]
  },
  {
   "cell_type": "markdown",
   "id": "cee71404",
   "metadata": {},
   "source": [
    "3. Filter for TV Shows Only"
   ]
  },
  {
   "cell_type": "code",
   "execution_count": 5,
   "id": "68ec5622",
   "metadata": {},
   "outputs": [
    {
     "name": "stdout",
     "output_type": "stream",
     "text": [
      "  show_id     type                  title         director  \\\n",
      "1      s2  TV Show          Blood & Water              NaN   \n",
      "2      s3  TV Show              Ganglands  Julien Leclercq   \n",
      "3      s4  TV Show  Jailbirds New Orleans              NaN   \n",
      "4      s5  TV Show           Kota Factory              NaN   \n",
      "5      s6  TV Show          Midnight Mass    Mike Flanagan   \n",
      "\n",
      "                                                cast       country  \\\n",
      "1  Ama Qamata, Khosi Ngema, Gail Mabalane, Thaban...  South Africa   \n",
      "2  Sami Bouajila, Tracy Gotoas, Samuel Jouy, Nabi...       Unknown   \n",
      "3                                                NaN       Unknown   \n",
      "4  Mayur More, Jitendra Kumar, Ranjan Raj, Alam K...         India   \n",
      "5  Kate Siegel, Zach Gilford, Hamish Linklater, H...       Unknown   \n",
      "\n",
      "           date_added  release_year rating   duration  \\\n",
      "1  September 24, 2021          2021  TV-MA  2 Seasons   \n",
      "2  September 24, 2021          2021  TV-MA   1 Season   \n",
      "3  September 24, 2021          2021  TV-MA   1 Season   \n",
      "4  September 24, 2021          2021  TV-MA  2 Seasons   \n",
      "5  September 24, 2021          2021  TV-MA   1 Season   \n",
      "\n",
      "                                           listed_in  \\\n",
      "1    International TV Shows, TV Dramas, TV Mysteries   \n",
      "2  Crime TV Shows, International TV Shows, TV Act...   \n",
      "3                             Docuseries, Reality TV   \n",
      "4  International TV Shows, Romantic TV Shows, TV ...   \n",
      "5                 TV Dramas, TV Horror, TV Mysteries   \n",
      "\n",
      "                                         description  \n",
      "1  After crossing paths at a party, a Cape Town t...  \n",
      "2  To protect his family from a powerful drug lor...  \n",
      "3  Feuds, flirtations and toilet talk go down amo...  \n",
      "4  In a city of coaching centers known to train I...  \n",
      "5  The arrival of a charismatic young priest brin...  \n"
     ]
    }
   ],
   "source": [
    "tv_shows_only = netflix_df[netflix_df['type'] == 'TV Show']\n",
    "\n",
    "print(tv_shows_only.head())"
   ]
  },
  {
   "cell_type": "markdown",
   "id": "4eab6160",
   "metadata": {},
   "source": [
    "4. Count the Number of Entries per Rating\n"
   ]
  },
  {
   "cell_type": "code",
   "execution_count": 6,
   "id": "b4e8dc2f",
   "metadata": {},
   "outputs": [
    {
     "name": "stdout",
     "output_type": "stream",
     "text": [
      "rating\n",
      "TV-MA       3207\n",
      "TV-14       2160\n",
      "TV-PG        863\n",
      "R            799\n",
      "PG-13        490\n",
      "TV-Y7        334\n",
      "TV-Y         307\n",
      "PG           287\n",
      "TV-G         220\n",
      "NR            80\n",
      "G             41\n",
      "TV-Y7-FV       6\n",
      "NC-17          3\n",
      "UR             3\n",
      "74 min         1\n",
      "84 min         1\n",
      "66 min         1\n",
      "Name: count, dtype: int64\n"
     ]
    }
   ],
   "source": [
    "rating_counts = netflix_df['rating'].value_counts()\n",
    "\n",
    "print(rating_counts)"
   ]
  },
  {
   "cell_type": "markdown",
   "id": "4f329791",
   "metadata": {},
   "source": [
    "5. Add a Column Showing Content Age (how many years since it came out)"
   ]
  },
  {
   "cell_type": "code",
   "execution_count": 7,
   "id": "96f6c691",
   "metadata": {},
   "outputs": [
    {
     "name": "stdout",
     "output_type": "stream",
     "text": [
      "                   title  release_year  content_age\n",
      "0   Dick Johnson Is Dead          2020            4\n",
      "1          Blood & Water          2021            3\n",
      "2              Ganglands          2021            3\n",
      "3  Jailbirds New Orleans          2021            3\n",
      "4           Kota Factory          2021            3\n"
     ]
    }
   ],
   "source": [
    "from datetime import datetime\n",
    "\n",
    "netflix_df['content_age'] = datetime.now().year - netflix_df['release_year']\n",
    "\n",
    "print(netflix_df[['title', 'release_year', 'content_age']].head())"
   ]
  },
  {
   "cell_type": "markdown",
   "id": "0c2ab4b4",
   "metadata": {
    "slideshow": {
     "slide_type": "slide"
    },
    "tags": []
   },
   "source": [
    "## Pandas I\n",
    "\n",
    "Let's now load the *Titanic* dataset and practice a little bit more:"
   ]
  },
  {
   "cell_type": "code",
   "execution_count": 8,
   "id": "961a8ca7",
   "metadata": {
    "slideshow": {
     "slide_type": "subslide"
    }
   },
   "outputs": [
    {
     "name": "stdout",
     "output_type": "stream",
     "text": [
      "Index(['Passengerid', 'Age', 'Fare', 'Sex', 'sibsp', 'zero', 'zero.1',\n",
      "       'zero.2', 'zero.3', 'zero.4', 'zero.5', 'zero.6', 'Parch', 'zero.7',\n",
      "       'zero.8', 'zero.9', 'zero.10', 'zero.11', 'zero.12', 'zero.13',\n",
      "       'zero.14', 'Pclass', 'zero.15', 'zero.16', 'Embarked', 'zero.17',\n",
      "       'zero.18', '2urvived'],\n",
      "      dtype='object')\n",
      "   Passengerid   Age     Fare  Sex  sibsp  zero  zero.1  zero.2  zero.3  \\\n",
      "0            1  22.0   7.2500    0      1     0       0       0       0   \n",
      "1            2  38.0  71.2833    1      1     0       0       0       0   \n",
      "2            3  26.0   7.9250    1      0     0       0       0       0   \n",
      "3            4  35.0  53.1000    1      1     0       0       0       0   \n",
      "4            5  35.0   8.0500    0      0     0       0       0       0   \n",
      "\n",
      "   zero.4  ...  zero.12  zero.13  zero.14  Pclass  zero.15  zero.16  Embarked  \\\n",
      "0       0  ...        0        0        0       3        0        0       2.0   \n",
      "1       0  ...        0        0        0       1        0        0       0.0   \n",
      "2       0  ...        0        0        0       3        0        0       2.0   \n",
      "3       0  ...        0        0        0       1        0        0       2.0   \n",
      "4       0  ...        0        0        0       3        0        0       2.0   \n",
      "\n",
      "   zero.17  zero.18  2urvived  \n",
      "0        0        0         0  \n",
      "1        0        0         1  \n",
      "2        0        0         1  \n",
      "3        0        0         1  \n",
      "4        0        0         0  \n",
      "\n",
      "[5 rows x 28 columns]\n"
     ]
    }
   ],
   "source": [
    "titanic_df = pd.read_csv('train_and_test2.csv')\n",
    "\n",
    "print(titanic_df.columns)\n",
    "print(titanic_df.head())\n"
   ]
  },
  {
   "cell_type": "markdown",
   "id": "0c6c14e8",
   "metadata": {},
   "source": [
    "1. Count the Missing Values in Each Column"
   ]
  },
  {
   "cell_type": "code",
   "execution_count": 9,
   "id": "d701003e",
   "metadata": {},
   "outputs": [
    {
     "name": "stdout",
     "output_type": "stream",
     "text": [
      "Passengerid    0\n",
      "Age            0\n",
      "Fare           0\n",
      "Sex            0\n",
      "sibsp          0\n",
      "zero           0\n",
      "zero.1         0\n",
      "zero.2         0\n",
      "zero.3         0\n",
      "zero.4         0\n",
      "zero.5         0\n",
      "zero.6         0\n",
      "Parch          0\n",
      "zero.7         0\n",
      "zero.8         0\n",
      "zero.9         0\n",
      "zero.10        0\n",
      "zero.11        0\n",
      "zero.12        0\n",
      "zero.13        0\n",
      "zero.14        0\n",
      "Pclass         0\n",
      "zero.15        0\n",
      "zero.16        0\n",
      "Embarked       2\n",
      "zero.17        0\n",
      "zero.18        0\n",
      "2urvived       0\n",
      "dtype: int64\n"
     ]
    }
   ],
   "source": [
    "missing_values_titanic = titanic_df.isna().sum()\n",
    "print(missing_values_titanic)"
   ]
  },
  {
   "cell_type": "markdown",
   "id": "541d22ac",
   "metadata": {},
   "source": [
    "2. Fill Missing 'Age' Values with the Mean Age"
   ]
  },
  {
   "cell_type": "code",
   "execution_count": 10,
   "id": "89e1ebc1",
   "metadata": {},
   "outputs": [],
   "source": [
    "titanic_df['Age'] = titanic_df['Age'].fillna(titanic_df['Age'].mean())"
   ]
  },
  {
   "cell_type": "markdown",
   "id": "96f185b7",
   "metadata": {},
   "source": [
    "3. Fill Missing 'Embarked' Values with the Mode (Most Common Value)\n"
   ]
  },
  {
   "cell_type": "code",
   "execution_count": 11,
   "id": "64ca816a",
   "metadata": {},
   "outputs": [],
   "source": [
    "titanic_df['Embarked'] = titanic_df['Embarked'].fillna(titanic_df['Embarked'].mode()[0])"
   ]
  },
  {
   "cell_type": "markdown",
   "id": "3e1999d5",
   "metadata": {},
   "source": [
    "4. Filter and Display Passengers Who Paid a Fare Above the Average Fare"
   ]
  },
  {
   "cell_type": "code",
   "execution_count": 12,
   "id": "dcea8deb",
   "metadata": {},
   "outputs": [
    {
     "name": "stdout",
     "output_type": "stream",
     "text": [
      "      Passengerid   Age      Fare  Sex  sibsp  zero  zero.1  zero.2  zero.3  \\\n",
      "1               2  38.0   71.2833    1      1     0       0       0       0   \n",
      "3               4  35.0   53.1000    1      1     0       0       0       0   \n",
      "6               7  54.0   51.8625    0      0     0       0       0       0   \n",
      "23             24  28.0   35.5000    0      0     0       0       0       0   \n",
      "27             28  19.0  263.0000    0      3     0       0       0       0   \n",
      "...           ...   ...       ...  ...    ...   ...     ...     ...     ...   \n",
      "1293         1294  22.0   59.4000    1      0     0       0       0       0   \n",
      "1294         1295  17.0   47.1000    0      0     0       0       0       0   \n",
      "1298         1299  50.0  211.5000    0      1     0       0       0       0   \n",
      "1302         1303  37.0   90.0000    1      1     0       0       0       0   \n",
      "1305         1306  39.0  108.9000    1      0     0       0       0       0   \n",
      "\n",
      "      zero.4  ...  zero.12  zero.13  zero.14  Pclass  zero.15  zero.16  \\\n",
      "1          0  ...        0        0        0       1        0        0   \n",
      "3          0  ...        0        0        0       1        0        0   \n",
      "6          0  ...        0        0        0       1        0        0   \n",
      "23         0  ...        0        0        0       1        0        0   \n",
      "27         0  ...        0        0        0       1        0        0   \n",
      "...      ...  ...      ...      ...      ...     ...      ...      ...   \n",
      "1293       0  ...        0        0        0       1        0        0   \n",
      "1294       0  ...        0        0        0       1        0        0   \n",
      "1298       0  ...        0        0        0       1        0        0   \n",
      "1302       0  ...        0        0        0       1        0        0   \n",
      "1305       0  ...        0        0        0       1        0        0   \n",
      "\n",
      "      Embarked  zero.17  zero.18  2urvived  \n",
      "1          0.0        0        0         1  \n",
      "3          2.0        0        0         1  \n",
      "6          2.0        0        0         0  \n",
      "23         2.0        0        0         1  \n",
      "27         2.0        0        0         0  \n",
      "...        ...      ...      ...       ...  \n",
      "1293       0.0        0        0         0  \n",
      "1294       2.0        0        0         0  \n",
      "1298       0.0        0        0         0  \n",
      "1302       1.0        0        0         0  \n",
      "1305       0.0        0        0         0  \n",
      "\n",
      "[304 rows x 28 columns]\n"
     ]
    }
   ],
   "source": [
    "high_fare_passengers = titanic_df[titanic_df['Fare'] > titanic_df['Fare'].mean()]\n",
    "print(high_fare_passengers)"
   ]
  },
  {
   "cell_type": "markdown",
   "id": "4065fe16",
   "metadata": {},
   "source": [
    "5. Add a New Column Indicating Family Size. Create a new column 'FamilySize' as the sum of 'SibSp' (siblings/spouses) and 'Parch' (parents/children)"
   ]
  },
  {
   "cell_type": "code",
   "execution_count": 13,
   "id": "0fd14a39",
   "metadata": {},
   "outputs": [
    {
     "name": "stdout",
     "output_type": "stream",
     "text": [
      "   sibsp  Parch  FamilySize\n",
      "0      1      0           1\n",
      "1      1      0           1\n",
      "2      0      0           0\n",
      "3      1      0           1\n",
      "4      0      0           0\n"
     ]
    }
   ],
   "source": [
    "titanic_df['FamilySize'] = titanic_df['sibsp'] + titanic_df['Parch']\n",
    "print(titanic_df[['sibsp', 'Parch', 'FamilySize']].head())"
   ]
  },
  {
   "cell_type": "markdown",
   "id": "ae883a57",
   "metadata": {
    "slideshow": {
     "slide_type": "slide"
    }
   },
   "source": [
    "## Pandas I\n",
    "\n",
    "Home exercises for Netflix:\n",
    "\n",
    "1. Is there any missing rating?\n",
    "2. How many films in 2021 correspond to your country?\n",
    "3. What's the number of movies in 2020 with full information?\n",
    "4. Give me the year with more titles,\n",
    "5. and what has been the average in terms of releases from 2010. \n",
    "\n",
    "And for Titanic:\n",
    "\n",
    "1. Calculate Gender-Based Survival Percentage\n",
    "\n",
    "2. Calculate Survival Percentage Grouped by Gender and Class"
   ]
  },
  {
   "cell_type": "markdown",
   "id": "e0c343b9",
   "metadata": {},
   "source": [
    "netflix.1"
   ]
  },
  {
   "cell_type": "code",
   "execution_count": 28,
   "id": "d05c4735",
   "metadata": {},
   "outputs": [
    {
     "name": "stdout",
     "output_type": "stream",
     "text": [
      "Missing values in 'rating': 4\n"
     ]
    }
   ],
   "source": [
    "missing_ratings = netflix_df['rating'].isna().sum()\n",
    "print(f\"Missing values in 'rating': {missing_ratings}\")"
   ]
  },
  {
   "cell_type": "markdown",
   "id": "1d3287b4",
   "metadata": {},
   "source": [
    "netflix.2"
   ]
  },
  {
   "cell_type": "code",
   "execution_count": 29,
   "id": "b999a735",
   "metadata": {},
   "outputs": [
    {
     "name": "stdout",
     "output_type": "stream",
     "text": [
      "Number of films released in 2021 in Italy: 6\n"
     ]
    }
   ],
   "source": [
    "my_country = \"Italy\"\n",
    "\n",
    "films_2021 = netflix_df[(netflix_df['release_year'] == 2021) & (netflix_df['country'] == my_country)]\n",
    "print(f\"Number of films released in 2021 in {my_country}: {len(films_2021)}\")"
   ]
  },
  {
   "cell_type": "markdown",
   "id": "76ace3ce",
   "metadata": {},
   "source": [
    "netflix.3"
   ]
  },
  {
   "cell_type": "code",
   "execution_count": 30,
   "id": "17496369",
   "metadata": {},
   "outputs": [
    {
     "name": "stdout",
     "output_type": "stream",
     "text": [
      "Number of films released in 2020 with complete information: 499\n"
     ]
    }
   ],
   "source": [
    "films_2020_complete = netflix_df[(netflix_df['release_year'] == 2020) & netflix_df.notna().all(axis=1)]\n",
    "print(f\"Number of films released in 2020 with complete information: {len(films_2020_complete)}\")"
   ]
  },
  {
   "cell_type": "markdown",
   "id": "b59f1a5b",
   "metadata": {},
   "source": [
    "netflix.4"
   ]
  },
  {
   "cell_type": "code",
   "execution_count": 31,
   "id": "9cdc31a3",
   "metadata": {},
   "outputs": [
    {
     "name": "stdout",
     "output_type": "stream",
     "text": [
      "The year with the most titles is: 2018\n"
     ]
    }
   ],
   "source": [
    "most_titles_year = netflix_df['release_year'].value_counts().idxmax()\n",
    "print(f\"The year with the most titles is: {most_titles_year}\")"
   ]
  },
  {
   "cell_type": "markdown",
   "id": "b67b7695",
   "metadata": {},
   "source": [
    "netflix.5"
   ]
  },
  {
   "cell_type": "code",
   "execution_count": 34,
   "id": "061ee4f9",
   "metadata": {},
   "outputs": [
    {
     "name": "stdout",
     "output_type": "stream",
     "text": [
      "The average annual releases from 2010 onwards are: 622.67\n"
     ]
    }
   ],
   "source": [
    "average_releases = netflix_df[netflix_df['release_year'] >= 2010]['release_year'].value_counts().mean()\n",
    "print(f\"The average annual releases from 2010 onwards are: {average_releases:.2f}\")"
   ]
  },
  {
   "cell_type": "markdown",
   "id": "4797a5e1",
   "metadata": {},
   "source": [
    "titanic.1"
   ]
  },
  {
   "cell_type": "code",
   "execution_count": 25,
   "id": "300ab319",
   "metadata": {},
   "outputs": [
    {
     "name": "stdout",
     "output_type": "stream",
     "text": [
      "Survival percentage by gender:\n",
      "Sex\n",
      "0    12.930012\n",
      "1    50.000000\n",
      "Name: 2urvived, dtype: float64\n"
     ]
    }
   ],
   "source": [
    "survival_by_gender = titanic_df.groupby('Sex')['2urvived'].mean() * 100\n",
    "print(\"Survival percentage by gender:\")\n",
    "print(survival_by_gender)"
   ]
  },
  {
   "cell_type": "markdown",
   "id": "c13c99cb",
   "metadata": {},
   "source": [
    "titanic.2"
   ]
  },
  {
   "cell_type": "code",
   "execution_count": 27,
   "id": "e7227bd5",
   "metadata": {},
   "outputs": [
    {
     "name": "stdout",
     "output_type": "stream",
     "text": [
      "\n",
      "Survival percentage by gender and class:\n",
      "Sex  Pclass\n",
      "0    1         25.139665\n",
      "     2          9.941520\n",
      "     3          9.533469\n",
      "1    1         63.194444\n",
      "     2         66.037736\n",
      "     3         33.333333\n",
      "Name: 2urvived, dtype: float64\n"
     ]
    }
   ],
   "source": [
    "survival_by_gender_class = titanic_df.groupby(['Sex', 'Pclass'])['2urvived'].mean() * 100\n",
    "print(\"\\nSurvival percentage by gender and class:\")\n",
    "print(survival_by_gender_class)"
   ]
  }
 ],
 "metadata": {
  "celltoolbar": "Slideshow",
  "kernelspec": {
   "display_name": "base",
   "language": "python",
   "name": "python3"
  },
  "language_info": {
   "codemirror_mode": {
    "name": "ipython",
    "version": 3
   },
   "file_extension": ".py",
   "mimetype": "text/x-python",
   "name": "python",
   "nbconvert_exporter": "python",
   "pygments_lexer": "ipython3",
   "version": "3.12.4"
  }
 },
 "nbformat": 4,
 "nbformat_minor": 5
}
