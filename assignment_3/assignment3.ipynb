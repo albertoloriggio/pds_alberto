{
  "cells": [
    {
      "cell_type": "markdown",
      "id": "24b98369-c7ba-450b-a8b5-e34319000695",
      "metadata": {
        "editable": true,
        "id": "24b98369-c7ba-450b-a8b5-e34319000695",
        "tags": []
      },
      "source": [
        "# Python for Data Science\n",
        "## Session 3\n",
        "### Object Oriented Programming"
      ]
    },
    {
      "cell_type": "markdown",
      "id": "42f8be9a-cc71-4a58-97ac-1a54219a2d72",
      "metadata": {
        "editable": true,
        "id": "42f8be9a-cc71-4a58-97ac-1a54219a2d72",
        "tags": []
      },
      "source": [
        "## Object Oriented programming\n",
        "### Hands on\n",
        "\n",
        "Let's design a course registration system, where the requirements will be:\n",
        "\n",
        "1. Create a **Course** class, where each course has a name, a description and a list of enrolled students. You'll need to implement the next methods:\n",
        "    - Add a student to the course.\n",
        "    - Remove a student from the course.\n",
        "    - Show all students in the course."
      ]
    },
    {
      "cell_type": "code",
      "execution_count": 4,
      "id": "e5430dcf-a01a-4ea1-aff8-5bad4531ab1e",
      "metadata": {
        "editable": true,
        "id": "e5430dcf-a01a-4ea1-aff8-5bad4531ab1e",
        "tags": []
      },
      "outputs": [],
      "source": [
        "class Course:  #Create the class course\n",
        "    def __init__(self, name, course_type):  #Define the class with the attributes name, course_type\n",
        "        self.name=name\n",
        "        self.course_type=course_type\n",
        "        self.student_list=[]  #Initialize the list course.student_list\n",
        "    def add_student(self,student):  #Method to add student to the course\n",
        "        self.student_list.append(student)  #I add student to the list student.course_list\n",
        "        student.course_list.append(self)  #I add student to the list course.student_list \n",
        "    def remove_student(self,student):  #Method to remove student from the course if the student takes that course(student in the list course.student _list)\n",
        "        if student in self.student_list:\n",
        "            self.student_list.remove(student)\n",
        "            student.course_list.remove(self)\n",
        "        else:\n",
        "            pass\n",
        "    def show_student(self):  #Method to show all students in the course\n",
        "        l=set()\n",
        "        for student in self.student_list:\n",
        "            l.add(student.name)\n",
        "        print(self.name,':',l)"
      ]
    },
    {
      "cell_type": "markdown",
      "id": "16cc578c-9fe3-4478-81da-3071e3adb318",
      "metadata": {
        "editable": true,
        "id": "16cc578c-9fe3-4478-81da-3071e3adb318",
        "tags": []
      },
      "source": [
        "## Object Oriented programming\n",
        "### Hands on\n",
        "\n",
        "2. Create a **Student** class, where each student has a name, ID number, address and a list of enrolled courses with the following methods:\n",
        "    - Enroll in a course.\n",
        "    - Drop a course.\n",
        "    - Show all registered student courses."
      ]
    },
    {
      "cell_type": "code",
      "execution_count": 1,
      "id": "fe4cce31-1ddf-4847-bc8d-924dc3e0dfe1",
      "metadata": {
        "editable": true,
        "id": "fe4cce31-1ddf-4847-bc8d-924dc3e0dfe1",
        "tags": []
      },
      "outputs": [],
      "source": [
        "class Student: #Create the class student\n",
        "    def __init__(self, name, student_id,student_address):  #Define the class with the attributes name, student_id, student_address\n",
        "        self.name=name\n",
        "        self.studentid=student_id\n",
        "        self.address=student_address\n",
        "        self.course_list  #Initialise the list student.course_list\n",
        "    def enroll(self, course):  #Method to enroll a student in a course\n",
        "        self.course_list.append(course)  #I add course to the list student.course _list\n",
        "        course.student_list.append(self)  #I add student to the course.student_list\n",
        "    def drop(self, course):  #Method to drop a course for a student if the student is already enrolled in that course(course in the list student.course_list)\n",
        "        if course in self.course_list:\n",
        "            self.course_list.remove(course)\n",
        "            course.student_list.remove(self)\n",
        "        else:\n",
        "            pass\n",
        "    def show_course(self):  #Method to show all registered student courses\n",
        "        l=set()\n",
        "        for course in self.course_list:\n",
        "            l.add(course.name)\n",
        "        print(self.name,':',l)"
      ]
    },
    {
      "cell_type": "markdown",
      "id": "5c54b2fe-691f-4520-b8d6-2515ba92b808",
      "metadata": {
        "editable": true,
        "id": "5c54b2fe-691f-4520-b8d6-2515ba92b808",
        "tags": []
      },
      "source": [
        "## Object Oriented programming\n",
        "### Hands on\n",
        "\n",
        "3. Create a central class that manages courses and students, **Registration** class, where you have a list of students and a list of courses, and methods:\n",
        "    - Enroll in a course.\n",
        "    - Drop a course.\n",
        "    - Show all the enrolled courses.\n",
        "    - Show all the students."
      ]
    },
    {
      "cell_type": "code",
      "execution_count": 2,
      "id": "863f30c7-3cf8-4ac9-8599-e7df8e0d483c",
      "metadata": {
        "editable": true,
        "id": "863f30c7-3cf8-4ac9-8599-e7df8e0d483c",
        "tags": []
      },
      "outputs": [],
      "source": [
        "class Registration:  #Create the class registration\n",
        "    def __init__(self):\n",
        "        self.students=[]  #Initialise two lists, one for classes one for students\n",
        "        self.courses=[]\n",
        "    def add_student(self,student):  #Method to add a student\n",
        "        if student not in self.students:  #I add the student to the students list if it’s not already in\n",
        "            self.students.append(student)\n",
        "    def drop_student(self,student):  #Method to drop a student\n",
        "         if student in self.students:  #I remove a student from the students list, if it’s in\n",
        "            self.students.remove(student)\n",
        "    def enroll_course(self,student,course):  #Method to enroll a student in a course \n",
        "        if self in self.students and course in self.courses:  #I enroll a student in a course if it is in the students list and the course in the courses list\n",
        "            student.enroll(course)\n",
        "    def drop_course(self, student, course):  #Method to drop a student from a course\n",
        "        if self in self.students and course in self.courses:  #I drop a student from a course if it is in the students list and the course in the courses list\n",
        "            student.drop(course)\n",
        "    def show_all_students():  #Method to show all students\n",
        "        if self.students:\n",
        "            l=set()\n",
        "            for student in self.students:\n",
        "                l.add(student.name)\n",
        "                print(l)\n",
        "    def show_all_courses():  #Method to show all courses\n",
        "        if self.courses:\n",
        "            l=set()\n",
        "            for course in self.courses:\n",
        "                l.add(course.name)\n",
        "                print(l)"
      ]
    },
    {
      "cell_type": "markdown",
      "id": "2958b01b-3472-4c95-ae1f-771edc638749",
      "metadata": {
        "editable": true,
        "id": "2958b01b-3472-4c95-ae1f-771edc638749",
        "tags": []
      },
      "source": [
        "## Object Oriented programming\n",
        "### Howework\n",
        "\n",
        "4. Let's add grades to each student's course and create method that yields the GPA given a student name or ID."
      ]
    },
    {
      "cell_type": "code",
      "execution_count": 3,
      "id": "536e1a47",
      "metadata": {},
      "outputs": [],
      "source": [
        "class Student:\n",
        "    def __init__(self, name, student_id,student_address):\n",
        "        self.name=name\n",
        "        self.studentid=student_id\n",
        "        self.address=student_address\n",
        "        self.course_list=[]\n",
        "        self.grades  #Initialise a dictionary for grades\n",
        "    def enroll(self, course):\n",
        "        self.course_list.append(course)\n",
        "        course.student_list.append(self)\n",
        "    def drop(self, course):\n",
        "        if course in self.course_list:\n",
        "            self.course_list.remove(course)\n",
        "            course.student_list.remove(self)\n",
        "    def assign_grades(self, course_name, grade):  #Method of class student to assign grades\n",
        "        for course in self.course_list:  #each course in student.course_list become a value in the dictionary student.grades with the grade(attribute of the method) as the key \n",
        "            if course.name==course_name:\n",
        "                self.grades[course]=grade\n",
        "            else:\n",
        "                print(f'{self.name}is not enrolled in {course_name}')\n",
        "    def calculate_gpa(self):  #Method of class student to calculate gpa\n",
        "        if not self.grades:\n",
        "            return 0.0\n",
        "        total_points=0\n",
        "        total_courses=len(self.course_list)\n",
        "        grade_points={\n",
        "            'A':4.0,\n",
        "            'B':3.0,\n",
        "            'C':2.0,\n",
        "            'D':1.0,\n",
        "            'F':0.0\n",
        "        }\n",
        "        for grade in self.grades.values():\n",
        "            total_points += grade_points[grade]\n",
        "        gpa= total_points/total_courses\n",
        "        return round(gpa,2)    \n",
        "        \n",
        "class Course:\n",
        "    def __init__(self, name, course_type):\n",
        "        self.name=name\n",
        "        self.course_type=course_type\n",
        "        self.student_list=[]\n",
        "    def add_student(self,student):\n",
        "        self.student_list.append(student)\n",
        "        student.course_list.append(self)\n",
        "    def remove_student(self,student):\n",
        "        if student in self.student_list:\n",
        "            self.student_list.remove(student)\n",
        "            student.course_list.remove(self)\n",
        "        else:\n",
        "            pass"
      ]
    },
    {
      "cell_type": "markdown",
      "id": "76c565a9-dc30-464c-980d-d522cd5246f4",
      "metadata": {
        "editable": true,
        "id": "76c565a9-dc30-464c-980d-d522cd5246f4",
        "tags": []
      },
      "source": [
        "## That's all!"
      ]
    }
  ],
  "metadata": {
    "colab": {
      "provenance": []
    },
    "kernelspec": {
      "display_name": "Python 3",
      "language": "python",
      "name": "python3"
    },
    "language_info": {
      "codemirror_mode": {
        "name": "ipython",
        "version": 3
      },
      "file_extension": ".py",
      "mimetype": "text/x-python",
      "name": "python",
      "nbconvert_exporter": "python",
      "pygments_lexer": "ipython3",
      "version": "3.12.6"
    }
  },
  "nbformat": 4,
  "nbformat_minor": 5
}
