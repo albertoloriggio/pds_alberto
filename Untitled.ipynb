{
 "cells": [
  {
   "cell_type": "code",
   "execution_count": null,
   "id": "3cda047a-e89c-4394-99b4-83d3815cc74f",
   "metadata": {},
   "outputs": [],
   "source": [
    "#exercise 1\n",
    "def bizzbuzz(n):"
   ]
  }
 ],
 "metadata": {
  "kernelspec": {
   "display_name": "",
   "name": ""
  },
  "language_info": {
   "name": ""
  }
 },
 "nbformat": 4,
 "nbformat_minor": 5
}
