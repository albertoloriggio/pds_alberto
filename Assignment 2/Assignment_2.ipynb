{
 "cells": [
  {
   "cell_type": "code",
   "execution_count": 1,
   "metadata": {},
   "outputs": [
    {
     "name": "stdout",
     "output_type": "stream",
     "text": [
      "The number itself for other numbers\n",
      "The number itself for other numbers\n",
      "Fizz\n",
      "The number itself for other numbers\n",
      "Buzz\n",
      "Fizz\n",
      "The number itself for other numbers\n",
      "The number itself for other numbers\n",
      "Fizz\n",
      "Buzz\n",
      "Submit the assigment\n",
      "Do the laundry\n"
     ]
    },
    {
     "data": {
      "text/plain": [
       "[71.6, 114.8, 123.8, 168.8]"
      ]
     },
     "execution_count": 1,
     "metadata": {},
     "output_type": "execute_result"
    }
   ],
   "source": [
    "'''Exercise 1: FizzBuzz\n",
    "1. Write a FizzBuzz Function: Create a function fizzbuzz(n) that takes an integer n as a parameter.\n",
    "2. Implement FizzBuzz Logic: The function should print:\n",
    "○ \"Fizz\" for multiples of 3\n",
    "○ \"Buzz\" for multiples of 5\n",
    "○ \"FizzBuzz\" for multiples of both 3 and 5\n",
    "○ The number itself for other numbers\n",
    "3. Call the Function: Call the function for numbers 1 to 20.'''\n",
    "\n",
    "\n",
    "def fizzbuzz(number):\n",
    "    for number in range(1, number+1):\n",
    "        if number % 3 ==0 and number % 5 ==0:\n",
    "            print('FizzBuzz')\n",
    "        elif number % 3 ==0:\n",
    "            print('Fizz')\n",
    "        elif number % 5 ==0:\n",
    "            print('Buzz')\n",
    "        else:\n",
    "            print('The number itself for other numbers')\n",
    "fizzbuzz(10)\n",
    "\n",
    "'''Exercise 2: Basic Data Filtering\n",
    "1. Create a List of Mixed Data Types: Create a list that contains a mix of integers, strings, and floats.\n",
    "2. Filter the List: Use list comprehension to create a new list that contains only the integers from the original list.\n",
    "3. Print the New List: Output the filtered list of integers.'''\n",
    "\n",
    "\n",
    "list =(23, 'Alberto', 2.001, 'Jezz')\n",
    "\n",
    "integer_list=[x for x in list if isinstance(x,int)]\n",
    "integer_list\n",
    "\n",
    "\n",
    "'''Exercise 3: Simple To-Do List\n",
    "1. Create an Empty List: Start with an empty list called todo_list.\n",
    "2. Define Functions:\n",
    "○ A function add_task(task) that adds a task to the list.\n",
    "○ A function show_tasks() that prints all tasks in the list.'''\n",
    "\n",
    "\n",
    "todo_list=[]\n",
    "\n",
    "def add_task(task):\n",
    "    todo_list.append(task)\n",
    "\n",
    "def show_tasks():\n",
    "    for task in todo_list:\n",
    "        print(task)\n",
    "\n",
    "add_task('Submit the assigment')\n",
    "add_task('Do the laundry')\n",
    "\n",
    "show_tasks()\n",
    "\n",
    "\n",
    "'''Exercise 4: Temperature Converter\n",
    "1. Define a Conversion Function: Write a function celsius_to_fahrenheit(celsius) that converts Celsius to Fahrenheit.\n",
    "2. Print the Result: Output the converted temperature for 22oF, 46oF, 51oF and 76oF.'''\n",
    "\n",
    "\n",
    "def celsius_to_fahrenheit(celsius):\n",
    "    return (celsius * 9/5)+32\n",
    "\n",
    "temperatures_in_celsius =[22, 46, 51, 76]\n",
    "converted_temperatures=[celsius_to_fahrenheit(temperature)for temperature in temperatures_in_celsius]\n",
    "\n",
    "converted_temperatures\n",
    "\n"
   ]
  }
 ],
 "metadata": {
  "kernelspec": {
   "display_name": "Python 3",
   "language": "python",
   "name": "python3"
  },
  "language_info": {
   "codemirror_mode": {
    "name": "ipython",
    "version": 3
   },
   "file_extension": ".py",
   "mimetype": "text/x-python",
   "name": "python",
   "nbconvert_exporter": "python",
   "pygments_lexer": "ipython3",
   "version": "3.12.6"
  }
 },
 "nbformat": 4,
 "nbformat_minor": 2
}
