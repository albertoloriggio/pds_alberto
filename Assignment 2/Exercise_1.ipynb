{
 "cells": [
  {
   "cell_type": "code",
   "execution_count": 1,
   "id": "3cda047a-e89c-4394-99b4-83d3815cc74f",
   "metadata": {},
   "outputs": [
    {
     "name": "stdout",
     "output_type": "stream",
     "text": [
      "The number itself for other numbers\n",
      "The number itself for other numbers\n",
      "Fizz\n",
      "The number itself for other numbers\n",
      "Buzz\n",
      "Fizz\n",
      "The number itself for other numbers\n",
      "The number itself for other numbers\n",
      "Fizz\n",
      "Buzz\n",
      "The number itself for other numbers\n",
      "Fizz\n",
      "The number itself for other numbers\n",
      "The number itself for other numbers\n",
      "FizzBuzz\n",
      "The number itself for other numbers\n",
      "The number itself for other numbers\n",
      "Fizz\n",
      "The number itself for other numbers\n",
      "Buzz\n"
     ]
    }
   ],
   "source": [
    "'''Exercise 1: FizzBuzz\n",
    "1. Write a FizzBuzz Function: Create a function fizzbuzz(n) that takes an integer n as a parameter.\n",
    "2. Implement FizzBuzz Logic: The function should print:\n",
    "○ \"Fizz\" for multiples of 3\n",
    "○ \"Buzz\" for multiples of 5\n",
    "○ \"FizzBuzz\" for multiples of both 3 and 5\n",
    "○ The number itself for other numbers\n",
    "3. Call the Function: Call the function for numbers 1 to 20.'''\n",
    "\n",
    "\n",
    "def fizzbuzz(number):\n",
    "    for number in range(1, number+1):\n",
    "        if number % 3 ==0 and number % 5 ==0:\n",
    "            print('FizzBuzz')\n",
    "        elif number % 3 ==0:\n",
    "            print('Fizz')\n",
    "        elif number % 5 ==0:\n",
    "            print('Buzz')\n",
    "        else:\n",
    "            print('The number itself for other numbers')\n",
    "fizzbuzz(20)\n"
   ]
  }
 ],
 "metadata": {
  "kernelspec": {
   "display_name": "Python 3",
   "language": "python",
   "name": "python3"
  },
  "language_info": {
   "codemirror_mode": {
    "name": "ipython",
    "version": 3
   },
   "file_extension": ".py",
   "mimetype": "text/x-python",
   "name": "python",
   "nbconvert_exporter": "python",
   "pygments_lexer": "ipython3",
   "version": "3.12.6"
  }
 },
 "nbformat": 4,
 "nbformat_minor": 5
}
